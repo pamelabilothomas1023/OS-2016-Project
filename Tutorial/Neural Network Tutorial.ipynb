{
 "cells": [
  {
   "cell_type": "code",
   "execution_count": 15,
   "metadata": {
    "collapsed": false
   },
   "outputs": [
    {
     "name": "stdout",
     "output_type": "stream",
     "text": [
      "[[  9.99134323e-01   8.73873054e-01   9.96184558e-01   9.58712579e-01]\n",
      " [  9.25357164e-01   9.70477212e-01   8.87669682e-01   1.48854588e-02]\n",
      " [  8.87950935e-01   8.25578461e-01   8.17743303e-01   1.84811622e-02]\n",
      " [  7.84433364e-02   9.57368240e-01   1.19561645e-01   1.22526533e-05]]\n",
      "[[ 0.00395374]\n",
      " [ 0.99568925]\n",
      " [ 0.9967036 ]\n",
      " [ 0.00477395]]\n"
     ]
    }
   ],
   "source": [
    "import numpy as np\n",
    "\n",
    "X = np.array([ [0,0,1],[0,1,1],[1,0,1],[1,1,1] ])\n",
    "y = np.array([[0,1,1,0]]).T\n",
    "syn0 = 2*np.random.random((3,4)) - 1\n",
    "syn1 = 2*np.random.random((4,1)) - 1\n",
    "for j in range(60000):\n",
    "    l1 = 1/(1+np.exp(-(np.dot(X,syn0))))\n",
    "    l2 = 1/(1+np.exp(-(np.dot(l1,syn1))))\n",
    "    l2_delta = (y - l2)*(l2*(1-l2))\n",
    "    l1_delta = l2_delta.dot(syn1.T) * (l1 * (1-l1))\n",
    "    syn1 += l1.T.dot(l2_delta)\n",
    "    syn0 += X.T.dot(l1_delta)\n",
    "print(l1)\n",
    "print(l2)"
   ]
  },
  {
   "cell_type": "code",
   "execution_count": 50,
   "metadata": {
    "collapsed": false
   },
   "outputs": [
    {
     "name": "stdout",
     "output_type": "stream",
     "text": [
      "Error:0.496410031903\n",
      "Error:0.00858588316689\n",
      "Error:0.00579050143742\n",
      "Error:0.00463004201792\n",
      "Error:0.00395951744543\n",
      "Error:0.00351079492493\n",
      "[[  7.26343184e-01   1.16294641e-01   9.26426559e-01   9.97128719e-01]\n",
      " [  1.66926165e-01   3.90362389e-04   1.66098203e-02   8.96837818e-01]\n",
      " [  9.96224420e-01   8.95394190e-01   2.22630516e-02   8.38568558e-01]\n",
      " [  9.52197755e-01   2.47713810e-02   3.05420750e-05   1.15073556e-01]]\n",
      "******\n",
      "[[ 0.00260688]\n",
      " [ 0.99672182]\n",
      " [ 0.9970168 ]\n",
      " [ 0.00386831]]\n"
     ]
    }
   ],
   "source": [
    "import numpy as np\n",
    "\n",
    "def nonlin(x,deriv=False):\n",
    "    if(deriv==True):\n",
    "        return x*(1-x)\n",
    "    return 1/(1+np.exp(-x))\n",
    "\n",
    "X = np.array([ [0,0,1],[0,1,1],[1,0,1],[1,1,1] ])\n",
    "y = np.array([[0,1,1,0]]).T\n",
    "np.random.seed(1)\n",
    "syn0 = 2*np.random.random((3,4)) - 1\n",
    "syn1 = 2*np.random.random((4,1)) - 1\n",
    "for iter in range(60000):\n",
    "    l0 = X\n",
    "    l1 = nonlin(np.dot(l0,syn0))\n",
    "    l2 = nonlin(np.dot(l1,syn1))\n",
    "    l2_error = y - l2\n",
    "    l1_error = l2_delta.dot(syn1.T)\n",
    "    if (iter% 10000) == 0:\n",
    "        print (\"Error:\" + str(np.mean(np.abs(l2_error))))\n",
    "    l2_delta = l2_error*nonlin(l2,deriv=True)\n",
    "    l1_delta = l1_error * nonlin(l1,deriv=True)\n",
    "    syn1 += l1.T.dot(l2_delta)\n",
    "    syn0 += np.dot(l0.T,l1_delta)\n",
    "print(l1)\n",
    "print(\"******\")\n",
    "print(l2)"
   ]
  },
  {
   "cell_type": "code",
   "execution_count": 41,
   "metadata": {
    "collapsed": false
   },
   "outputs": [
    {
     "data": {
      "text/plain": [
       "array([[-0.62747958],\n",
       "       [-0.30887855],\n",
       "       [-0.20646505]])"
      ]
     },
     "execution_count": 41,
     "metadata": {},
     "output_type": "execute_result"
    }
   ],
   "source": [
    "2*np.random.random((3,1)) - 1"
   ]
  },
  {
   "cell_type": "code",
   "execution_count": 6,
   "metadata": {
    "collapsed": false
   },
   "outputs": [
    {
     "data": {
      "text/plain": [
       "array([[  5.84307600e-01,   8.93899190e-01,   4.34299805e-01,\n",
       "          1.05394749e-01],\n",
       "       [  6.01780761e-01,   3.58064807e-02,   9.78333877e-01,\n",
       "          8.23103333e-05],\n",
       "       [  6.00643001e-01,   9.99929175e-01,   9.75896439e-01,\n",
       "          9.55627151e-01],\n",
       "       [  6.17878566e-01,   9.84185179e-01,   9.99580248e-01,\n",
       "          1.48247453e-02]])"
      ]
     },
     "execution_count": 6,
     "metadata": {},
     "output_type": "execute_result"
    }
   ],
   "source": [
    "l1"
   ]
  },
  {
   "cell_type": "code",
   "execution_count": null,
   "metadata": {
    "collapsed": true
   },
   "outputs": [],
   "source": []
  }
 ],
 "metadata": {
  "kernelspec": {
   "display_name": "Python [Root]",
   "language": "python",
   "name": "Python [Root]"
  },
  "language_info": {
   "codemirror_mode": {
    "name": "ipython",
    "version": 3
   },
   "file_extension": ".py",
   "mimetype": "text/x-python",
   "name": "python",
   "nbconvert_exporter": "python",
   "pygments_lexer": "ipython3",
   "version": "3.5.2"
  }
 },
 "nbformat": 4,
 "nbformat_minor": 0
}
